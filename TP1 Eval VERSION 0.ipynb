{
 "cells": [
  {
   "cell_type": "markdown",
   "metadata": {},
   "source": [
    "<h1>TP1 EVAL <h1>"
   ]
  },
  {
   "cell_type": "markdown",
   "metadata": {},
   "source": [
    "## 1."
   ]
  },
  {
   "cell_type": "code",
   "execution_count": 16,
   "metadata": {},
   "outputs": [],
   "source": [
    "def Xn(t,n):\n",
    "    x=0\n",
    "    for i in t :\n",
    "        x=x+i\n",
    "    return x/n"
   ]
  },
  {
   "cell_type": "code",
   "execution_count": 17,
   "metadata": {},
   "outputs": [],
   "source": [
    "def On(t,n,Xn):\n",
    "    x=0\n",
    "    for i in t :\n",
    "        x=x+(i-Xn)**2\n",
    "    return x/n"
   ]
  },
  {
   "cell_type": "code",
   "execution_count": 18,
   "metadata": {},
   "outputs": [],
   "source": [
    "import random\n",
    "import matplotlib.pyplot as plt"
   ]
  },
  {
   "cell_type": "code",
   "execution_count": 19,
   "metadata": {},
   "outputs": [],
   "source": [
    "def create_table(n) :\n",
    "    t=[]\n",
    "    for i in range(n+1) :\n",
    "        t.append(random.uniform(0, 1))\n",
    "    return t"
   ]
  },
  {
   "cell_type": "code",
   "execution_count": 21,
   "metadata": {
    "scrolled": true
   },
   "outputs": [
    {
     "data": {
      "image/png": "[encoded data removed]",
      "text/plain": [
       "<Figure size 432x288 with 1 Axes>"
      ]
     },
     "metadata": {
      "needs_background": "light"
     },
     "output_type": "display_data"
    },
    {
     "name": "stdout",
     "output_type": "stream",
     "text": [
      "Valeur aléatoire 100 Moyenne: 0.5370435914396428 Variance: 0.09723694420005018\n",
      "Valeur aléatoire 1000 Moyenne: 0.5138533717468131 Variance: 0.07901367768931256\n",
      "Valeur aléatoire 10000 Moyenne: 0.49903446586479283 Variance: 0.0833195352548728\n",
      "Valeur aléatoire 100000 Moyenne: 0.4996524879425107 Variance: 0.08371805512731098\n"
     ]
    }
   ],
   "source": [
    "n=[100, 1000, 10000, 100000]\n",
    "xn=[]\n",
    "v=[]\n",
    "for i in n :\n",
    "    t=create_table(i)\n",
    "    xn.append(Xn(t,i))\n",
    "    v.append(On(t,i,Xn(t,i)))\n",
    "    \n",
    "plt.plot(n,xn,'b-')\n",
    "plt.plot(n,v,'r-')\n",
    "plt.show()\n",
    "\n",
    "for i in range(len(n)):\n",
    "    print('Valeur aléatoire {} Moyenne: {} Variance: {}'.format(n[i],xn[i],v[i]))\n"
   ]
  },
  {
   "cell_type": "markdown",
   "metadata": {},
   "source": [
    "<h2>Exemple 2<h2>"
   ]
  },
  {
   "cell_type": "code",
   "execution_count": 40,
   "metadata": {},
   "outputs": [],
   "source": [
    "import numpy as np\n",
    "from ipykernel import kernelapp as app"
   ]
  },
  {
   "cell_type": "code",
   "execution_count": 25,
   "metadata": {},
   "outputs": [],
   "source": [
    "def create_table(n,lamda) :\n",
    "    t=np.random.exponential(1/lamda,n)\n",
    "    return t"
   ]
  },
  {
   "cell_type": "code",
   "execution_count": 43,
   "metadata": {},
   "outputs": [
    {
     "name": "stderr",
     "output_type": "stream",
     "text": [
      "C:\\Users\\MSR.info\\Anaconda3\\lib\\site-packages\\ipykernel_launcher.py:11: MatplotlibDeprecationWarning: Adding an axes using the same arguments as a previous axes currently reuses the earlier instance.  In a future version, a new instance will always be created and returned.  Meanwhile, this warning can be suppressed, and the future behavior ensured, by passing a unique label to each axes instance.\n",
      "  # This is added back by InteractiveShellApp.init_path()\n",
      "C:\\Users\\MSR.info\\Anaconda3\\lib\\site-packages\\ipykernel_launcher.py:13: MatplotlibDeprecationWarning: Adding an axes using the same arguments as a previous axes currently reuses the earlier instance.  In a future version, a new instance will always be created and returned.  Meanwhile, this warning can be suppressed, and the future behavior ensured, by passing a unique label to each axes instance.\n",
      "  del sys.path[0]\n"
     ]
    },
    {
     "data": {
      "image/png": "[encoded data removed]",
      "text/plain": [
       "<Figure size 432x288 with 2 Axes>"
      ]
     },
     "metadata": {
      "needs_background": "light"
     },
     "output_type": "display_data"
    }
   ],
   "source": [
    "xn=[[]]*3\n",
    "v=[[]]*3\n",
    "lamda=[10,100,1000]\n",
    "\n",
    "for i in range(3) :\n",
    "    for j in range(3) :\n",
    "        t=create_table(n[i], lamda[j])\n",
    "        x=Xn(t,n[i])\n",
    "        xn[i].append([x])\n",
    "        v[i].append([On(t,n[i],x)])\n",
    "        plt.subplot(2,2,1)\n",
    "        plt.plot(lamda[j],v[i][j],'ro')\n",
    "        plt.subplot(2,2,2)\n",
    "        plt.plot(lamda[j],x,'bo')\n",
    "plt.show()"
   ]
  },
  {
   "cell_type": "markdown",
   "metadata": {},
   "source": [
    "<h2>Exemple 3<h2>"
   ]
  },
  {
   "cell_type": "code",
   "execution_count": 45,
   "metadata": {},
   "outputs": [
    {
     "name": "stdout",
     "output_type": "stream",
     "text": [
      "[4 1 2 0 0]\n"
     ]
    }
   ],
   "source": [
    "def create_table(n):\n",
    "    return np.random.randint(0,n+1,n)\n",
    "print(create_table(5))"
   ]
  },
  {
   "cell_type": "code",
   "execution_count": 48,
   "metadata": {},
   "outputs": [
    {
     "name": "stderr",
     "output_type": "stream",
     "text": [
      "C:\\Users\\MSR.info\\Anaconda3\\lib\\site-packages\\ipykernel_launcher.py:4: RuntimeWarning: overflow encountered in long_scalars\n",
      "  after removing the cwd from sys.path.\n"
     ]
    },
    {
     "data": {
      "image/png": "[encoded data removed]",
      "text/plain": [
       "<Figure size 432x288 with 2 Axes>"
      ]
     },
     "metadata": {
      "needs_background": "light"
     },
     "output_type": "display_data"
    },
    {
     "name": "stdout",
     "output_type": "stream",
     "text": [
      "Valeur aléatoire 100 Moyenne: 51.23 Variance: 796.3771000000004\n",
      "Valeur aléatoire 1000 Moyenne: 483.099 Variance: 85870.99519899997\n",
      "Valeur aléatoire 10000 Moyenne: 4977.0755 Variance: 8377294.406799736\n",
      "Valeur aléatoire 100000 Moyenne: 7270.77503 Variance: 2674273019.292674\n"
     ]
    }
   ],
   "source": [
    "import numpy as np\n",
    "from ipykernel import kernelapp as app\n",
    "\n",
    "xn=[]\n",
    "v=[]\n",
    "for i in n:\n",
    "    t=create_table(i)\n",
    "    x=Xn(t,i)\n",
    "    xn.append(x)\n",
    "    v.append(On(t,i,x))\n",
    "plt.subplot(2,2,1)\n",
    "plt.plot(n,v,'ro')\n",
    "plt.subplot(2,2,2)\n",
    "plt.plot(n,v,'bo')\n",
    "plt.show()\n",
    "for i in range(len(n)): \n",
    "    print('Valeur aléatoire {} Moyenne: {} Variance: {}'.format(n[i],xn[i],v[i]))\n"
   ]
  },
  {
   "cell_type": "markdown",
   "metadata": {},
   "source": [
    "<h2>Exemple 4<h2>"
   ]
  },
  {
   "cell_type": "code",
   "execution_count": 51,
   "metadata": {},
   "outputs": [],
   "source": [
    "def create(n):\n",
    "    x=[]\n",
    "    t=np.random.uniform(0,1,n)\n",
    "    for i in t:\n",
    "        if i<0.3:\n",
    "            x.append(0)\n",
    "        elif i<0.5:\n",
    "            x.append(2)\n",
    "        else:\n",
    "            x.append(6)\n",
    "    return x\n",
    "            "
   ]
  },
  {
   "cell_type": "code",
   "execution_count": 53,
   "metadata": {},
   "outputs": [
    {
     "name": "stdout",
     "output_type": "stream",
     "text": [
      "Valeur aléatoire 100 Moyenne: 3.6 Variance: 7.439999999999994\n",
      "Valeur aléatoire 1000 Moyenne: 3.342 Variance: 7.419036000000107\n",
      "Valeur aléatoire 10000 Moyenne: 3.3762 Variance: 7.204873559999788\n",
      "Valeur aléatoire 100000 Moyenne: 3.41196 Variance: 7.223968958409728\n"
     ]
    }
   ],
   "source": [
    "xn=[]\n",
    "v=[]\n",
    "for i in n:\n",
    "    t=create(i)\n",
    "    x=Xn(t,i)\n",
    "    xn.append(x)\n",
    "    v.append(On(t,i,x))\n",
    "for i in range (len(n)):\n",
    "    print('Valeur aléatoire {} Moyenne: {} Variance: {}'.format(n[i],xn[i],v[i]))"
   ]
  },
  {
   "cell_type": "code",
   "execution_count": null,
   "metadata": {},
   "outputs": [],
   "source": []
  }
 ],
 "metadata": {
  "kernelspec": {
   "display_name": "Python 3",
   "language": "python",
   "name": "python3"
  },
  "language_info": {
   "codemirror_mode": {
    "name": "ipython",
    "version": 3
   },
   "file_extension": ".py",
   "mimetype": "text/x-python",
   "name": "python",
   "nbconvert_exporter": "python",
   "pygments_lexer": "ipython3",
   "version": "3.7.4"
  }
 },
 "nbformat": 4,
 "nbformat_minor": 2
}
