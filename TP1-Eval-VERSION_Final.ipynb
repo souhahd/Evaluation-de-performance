{
 "cells": [
  {
   "cell_type": "markdown",
   "metadata": {},
   "source": [
    "<img src=\"capture1.png\">"
   ]
  },
  {
   "cell_type": "markdown",
   "metadata": {},
   "source": [
    "# <font color=\"Indigo\" size=\"5\"/> Moyenne empirique:\n",
    ">La moyenne empirique d’un échantillon de variables aléatoires réelles ou vectorielles$ {\\displaystyle (X_{1},..,X_{n})}$ ${\\displaystyle (X_{1},..,X_{n})}$ est défini par la moyenne arithmétique des valeurs :$ {\\displaystyle {\\overline {X}}_{n}={\\frac {1}{n}}{\\sum _{i=1}^{n}X_{i}}}$.\n",
    "# <font color=\"Indigo\" size=\"5\"/> Variance  empirique:\n",
    ">La variance est une mesure de la dispersion des valeurs d'un échantillon ou d'une distribution de probabilité. Elle exprime la moyenne des carrés des écarts à la moyenne\n",
    "La variance est toujours positive, et ne s’annule que si les valeurs sont toutes égales. Sa racine carrée définit l’écart type σ, d’où la notation $ {\\displaystyle \\sigma ^{2}=V=\\mathbb {V} (X)={\\frac {1}{n}}\\sum _{i=1}^{n}\\left(x_{i}-{\\overline {x}}\\right)^{2}}.$"
   ]
  },
  {
   "cell_type": "markdown",
   "metadata": {},
   "source": [
    "# <div style=\"color:steelBlue;padding:2%;text-decoration: underline;\">Exemple 1</div>"
   ]
  },
  {
   "cell_type": "markdown",
   "metadata": {},
   "source": [
    ">### <p style='color:blue'> 1. Espérance et variance d’une loi exponentielle: </p>\n",
    ">### <div style=\"text-decoration: underline;\"> Calcul théorique:</div>\n",
    "> - La moyenne Empirique : $ {\\displaystyle {\\overline {X}}_{n}={\\frac {1}{n}}{\\sum _{i=1}^{n}X_{i}}}$.=0.5\n",
    "- La variance Empirique: $ {\\displaystyle \\sigma ^{2}=V=\\mathbb {V} (X)={\\frac {1}{n}}\\sum _{i=1}^{n}\\left(x_{i}-{\\overline {x}}\\right)^{2}}.$ = 0.083\n",
    "### <div style=\"text-decoration: underline;\">Calcul pratique:</div>"
   ]
  },
  {
   "cell_type": "code",
   "execution_count": 183,
   "metadata": {},
   "outputs": [],
   "source": [
    "def Xn(t,n): # fonction qui calcule la moyenne empérique\n",
    "    x=0\n",
    "    for i in t :\n",
    "        x=x+i # formule qui calcule la moyenne empérique\n",
    "    return x/n"
   ]
  },
  {
   "cell_type": "code",
   "execution_count": 184,
   "metadata": {},
   "outputs": [],
   "source": [
    "def On(t,n,xn): # fonction qui calcule la variance empérique\n",
    "    x=0\n",
    "    for i in t :\n",
    "        x=x+(i-xn)**2 # formule qui calcule la variance avec xn_ est la moyenne empérique\n",
    "    return x/n"
   ]
  },
  {
   "cell_type": "code",
   "execution_count": 185,
   "metadata": {},
   "outputs": [],
   "source": [
    "import random\n",
    "import matplotlib.pyplot as plt"
   ]
  },
  {
   "cell_type": "code",
   "execution_count": 186,
   "metadata": {},
   "outputs": [],
   "source": [
    "def create_table(n) :\n",
    "    t=[]\n",
    "    for i in range(n+1) :\n",
    "        t.append(random.uniform(0, 1))\n",
    "    return t"
   ]
  },
  {
   "cell_type": "code",
   "execution_count": 187,
   "metadata": {
    "scrolled": true
   },
   "outputs": [
    {
     "data": {
      "image/png": "[encoded data removed]",
      "text/plain": [
       "<Figure size 432x288 with 1 Axes>"
      ]
     },
     "metadata": {
      "needs_background": "light"
     },
     "output_type": "display_data"
    },
    {
     "name": "stdout",
     "output_type": "stream",
     "text": [
      "Valeur aléatoire 100 Moyenne: 0.5207496182558669 Variance: 0.0956066598662083\n",
      "Valeur aléatoire 1000 Moyenne: 0.4994372188371844 Variance: 0.0835814225557544\n",
      "Valeur aléatoire 10000 Moyenne: 0.4985103057707506 Variance: 0.08391573206873003\n",
      "Valeur aléatoire 100000 Moyenne: 0.49979562888975737 Variance: 0.08349829858787527\n"
     ]
    }
   ],
   "source": [
    "n=[100, 1000, 10000, 100000]\n",
    "xn=[]\n",
    "v=[]\n",
    "for i in n :\n",
    "    t=create_table(i)\n",
    "    xn.append(Xn(t,i))\n",
    "    v.append(On(t,i,Xn(t,i)))\n",
    "    \n",
    "plt.plot(n,xn,'b-')\n",
    "plt.plot(n,v,'r-')\n",
    "plt.show()\n",
    "\n",
    "for i in range(len(n)):\n",
    "    print('Valeur aléatoire {} Moyenne: {} Variance: {}'.format(n[i],xn[i],v[i]))\n"
   ]
  },
  {
   "cell_type": "markdown",
   "metadata": {},
   "source": [
    "### <p style='color:red'>  On remarque que les résultats pratique ( moyenne ,variance) sont égales à les résultats théorique . </p>"
   ]
  },
  {
   "cell_type": "markdown",
   "metadata": {},
   "source": [
    "# <div style=\"color:steelBlue;padding:2%;text-decoration: underline;\">Exemple 2</div>"
   ]
  },
  {
   "cell_type": "markdown",
   "metadata": {},
   "source": [
    "## <p style='color:red'>La loi exponentielle:</p> \n",
    "> ### <p style='color:blue'> 1. Définition: </p>\n",
    "Une variable aléatoire suit la loi exponentielle de paramètre $λ > 0$ si elle admet pour densité de probabilité sur \n",
    "$[0;+∞[$.png la fonction f définie par\n",
    "<img src=\"capture.png\">\n",
    "La figure qui suit montre les courbes représentatives de la fonction f pour trois valeurs différentes du paramètre λ.\n"
   ]
  },
  {
   "cell_type": "markdown",
   "metadata": {},
   "source": [
    "> ### <p style='color:blue'> 2. Espérance et variance d’une loi exponentielle: </p>\n",
    "- On démontre que l’espérance $E(X)$ d’une variable aléatoire X distribuée selon une loi exponentielle de paramètre $λ$ est $E(X)=1/λ.$\n",
    "- Sa variance $On^{2}=1/λ^2$ ."
   ]
  },
  {
   "cell_type": "markdown",
   "metadata": {},
   "source": [
    ">### <div style=\"text-decoration: underline;\"> Calcul théorique:</div>\n",
    "> - La moyenne Empirique : $ {\\displaystyle {\\overline {X}}_{n}={\\frac {1}{n}}{\\sum _{i=1}^{n}X_{i}}}$.=$1/λ$=$0.65$\n",
    "- La variance Empirique: $ {\\displaystyle \\sigma ^{2}=V=\\mathbb {V} (X)={\\frac {1}{n}}\\sum _{i=1}^{n}\\left(x_{i}-{\\overline {x}}\\right)^{2}}.$ =$1/λ^2$=$0.077$\n",
    "### <div style=\"text-decoration: underline;\">Calcul pratique:</div>"
   ]
  },
  {
   "cell_type": "code",
   "execution_count": 208,
   "metadata": {},
   "outputs": [],
   "source": [
    "import numpy as np\n",
    "from ipykernel import kernelapp as app\n",
    "import math"
   ]
  },
  {
   "cell_type": "code",
   "execution_count": 205,
   "metadata": {},
   "outputs": [],
   "source": [
    "def F(x,lamda):\n",
    "    return 1-math.exp(-lamda*x)"
   ]
  },
  {
   "cell_type": "code",
   "execution_count": 206,
   "metadata": {},
   "outputs": [],
   "source": [
    "def create_table(n,lamda) :\n",
    "    t=[]\n",
    "    for i in range(n+1):\n",
    "        t.append(F(random.uniform(0,1),lamda))\n",
    "    return t"
   ]
  },
  {
   "cell_type": "code",
   "execution_count": 207,
   "metadata": {},
   "outputs": [
    {
     "data": {
      "image/png": "[encoded data removed]",
      "text/plain": [
       "<Figure size 432x288 with 1 Axes>"
      ]
     },
     "metadata": {
      "needs_background": "light"
     },
     "output_type": "display_data"
    },
    {
     "name": "stdout",
     "output_type": "stream",
     "text": [
      "Valeur aléatoire 10 Moyenne: 0.6461158309855483 Variance: 0.0789308537639932\n",
      "Valeur aléatoire 100 Moyenne: 0.6737732436410062 Variance: 0.0747099929639481\n",
      "Valeur aléatoire 1000 Moyenne: 0.6899483883778111 Variance: 0.0653542561563491\n",
      "Valeur aléatoire 10000 Moyenne: 0.6887430358850753 Variance: 0.06533646274738397\n"
     ]
    }
   ],
   "source": [
    "xn=[]\n",
    "v=[]\n",
    "lamda=3\n",
    "n=[10,100,1000,10000]\n",
    "\n",
    "j=0\n",
    "for i in n :\n",
    "    t=create_table(i, lamda)\n",
    "    xn.append(Xn(t,i))\n",
    "    v.append(On(t,i,xn[j]))\n",
    "    j=+1\n",
    "    \n",
    "plt.plot(n,v,\"r-\")\n",
    "plt.plot(n,xn,\"g-\")\n",
    "plt.show()\n",
    "for i in range(len(n)):\n",
    "    print('Valeur aléatoire {} Moyenne: {} Variance: {}'.format(n[i],xn[i],v[i]))\n",
    "\n",
    "    "
   ]
  },
  {
   "cell_type": "markdown",
   "metadata": {},
   "source": [
    "### <p style='color:red'>  On remarque que les résultats pratique ( moyenne ,variance) sont égales à les résultats théorique . </p>"
   ]
  },
  {
   "cell_type": "markdown",
   "metadata": {},
   "source": [
    "# <div style=\"color:steelBlue;padding:2%;text-decoration: underline;\">Exemple 3</div>"
   ]
  },
  {
   "cell_type": "markdown",
   "metadata": {},
   "source": [
    "### <p style='color:blue'>  Espérance et variance d’une loi uniforme discrète: </p>\n",
    ">###  <div style=\"text-decoration: underline;\"> Calcul théorique:</div>\n",
    "\n",
    "> - La moyenne Empirique : $\\tilde{x_{n}}$ = $^1/_N$ $\\sum_{n=1}^{N} X_i$ =$(a+b)/2$=(2+5)/2=3.5 \n",
    "- La variance Empirique: $ {\\displaystyle \\sigma ^{2}=V=\\mathbb {V} (X)={\\frac {1}{n}}\\sum _{i=1}^{n}\\left(x_{i}-{\\overline {x}}\\right)^{2}}.$= $(a-b)(a-b-2)/12$=(2-5)(2-5-2)/2=7.5\n",
    ">### <div style=\"text-decoration: underline;\">Calcul pratique:</div>"
   ]
  },
  {
   "cell_type": "code",
   "execution_count": 200,
   "metadata": {},
   "outputs": [],
   "source": [
    "def create_table(n,a,b) :\n",
    "    t=[]\n",
    "    for i in range(n) :\n",
    "        t.append(random.uniform(a, b))\n",
    "    return t \n"
   ]
  },
  {
   "cell_type": "code",
   "execution_count": 201,
   "metadata": {},
   "outputs": [
    {
     "data": {
      "image/png": "[encoded data removed]",
      "text/plain": [
       "<Figure size 432x288 with 1 Axes>"
      ]
     },
     "metadata": {
      "needs_background": "light"
     },
     "output_type": "display_data"
    },
    {
     "name": "stdout",
     "output_type": "stream",
     "text": [
      "Valeur aléatoire 100 Moyenne: 3.4341026680190687 Variance: 0.8319998654961883\n",
      "Valeur aléatoire 1000 Moyenne: 3.446986062889339 Variance: 0.7590142579374436\n",
      "Valeur aléatoire 10000 Moyenne: 3.493653048316879 Variance: 0.7441382469997697\n",
      "Valeur aléatoire 100000 Moyenne: 3.498123524655676 Variance: 0.7495205578071481\n"
     ]
    }
   ],
   "source": [
    "n=[100, 1000, 10000, 100000]\n",
    "xn=[]\n",
    "v=[]\n",
    "for i in n :\n",
    "    t=create_table(i,2,5)\n",
    "\n",
    "    xn.append(Xn(t,i))\n",
    "    v.append(On(t,i,Xn(t,i)))\n",
    "    \n",
    "plt.plot(n,xn,'b-')\n",
    "plt.plot(n,v,'r-')\n",
    "plt.show()\n",
    "\n",
    "for i in range(len(n)):\n",
    "    print('Valeur aléatoire {} Moyenne: {} Variance: {}'.format(n[i],xn[i],v[i]))\n",
    "   "
   ]
  },
  {
   "cell_type": "markdown",
   "metadata": {},
   "source": [
    "### <p style='color:red'>  On remarque que les résultats pratique ( moyenne ,variance) sont égales à les résultats théorique . </p>"
   ]
  },
  {
   "cell_type": "markdown",
   "metadata": {},
   "source": [
    "# <div style=\"color:steelBlue;padding:2%;text-decoration: underline;\">Exemple 4</div>"
   ]
  },
  {
   "cell_type": "markdown",
   "metadata": {},
   "source": [
    "### <p style='color:blue'>  Espérance et variance d’une loi uniforme discrète: </p>\n",
    ">###  <div style=\"text-decoration: underline;\"> Calcul théorique:</div>\n",
    " >#### La moyenne Empirique : $\\tilde{x_{n}}$ = $^1/_N$ $\\sum_{n=1}^{N} X_i$ =$3.4$ \n",
    " >#### La variance Empirique: $ {\\displaystyle \\sigma ^{2}=V=\\mathbb {V} (X)={\\frac {1}{n}}\\sum _{i=1}^{n}\\left(x_{i}-{\\overline {x}}\\right)^{2}}.$ = $7.24$\n",
    ">### <div style=\"text-decoration: underline;\">Calcul pratique:</div>"
   ]
  },
  {
   "cell_type": "code",
   "execution_count": 202,
   "metadata": {},
   "outputs": [],
   "source": [
    "def create(n):\n",
    "    x=[]\n",
    "    t=np.random.uniform(0,1,n)\n",
    "    for i in t:\n",
    "        if i<0.3:\n",
    "            x.append(0)\n",
    "        elif i<0.5:\n",
    "            x.append(2)\n",
    "        else:\n",
    "            x.append(6)\n",
    "    return x\n",
    "            "
   ]
  },
  {
   "cell_type": "code",
   "execution_count": 203,
   "metadata": {},
   "outputs": [
    {
     "name": "stdout",
     "output_type": "stream",
     "text": [
      "Valeur aléatoire 100 Moyenne: 3.84 Variance: 6.854400000000005\n",
      "Valeur aléatoire 1000 Moyenne: 3.446 Variance: 7.23308399999996\n",
      "Valeur aléatoire 10000 Moyenne: 3.357 Variance: 7.24055099999967\n",
      "Valeur aléatoire 100000 Moyenne: 3.40138 Variance: 7.228334095600408\n"
     ]
    }
   ],
   "source": [
    "xn=[]\n",
    "v=[]\n",
    "for i in n:\n",
    "    t=create(i)\n",
    "    x=Xn(t,i)\n",
    "    xn.append(x)\n",
    "    v.append(On(t,i,x))\n",
    "for i in range (len(n)):\n",
    "    print('Valeur aléatoire {} Moyenne: {} Variance: {}'.format(n[i],xn[i],v[i]))"
   ]
  },
  {
   "cell_type": "markdown",
   "metadata": {},
   "source": [
    "\n",
    "### <p style='color:red'>  On remarque que les résultats pratique ( moyenne ,variance) sont égales à les résultats théorique . </p>"
   ]
  }
 ],
 "metadata": {
  "kernelspec": {
   "display_name": "Python 3",
   "language": "python",
   "name": "python3"
  },
  "language_info": {
   "codemirror_mode": {
    "name": "ipython",
    "version": 3
   },
   "file_extension": ".py",
   "mimetype": "text/x-python",
   "name": "python",
   "nbconvert_exporter": "python",
   "pygments_lexer": "ipython3",
   "version": "3.7.4"
  }
 },
 "nbformat": 4,
 "nbformat_minor": 2
}
